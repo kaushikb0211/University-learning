{
 "cells": [
  {
   "cell_type": "markdown",
   "id": "2ddacfb4",
   "metadata": {},
   "source": [
    "# A crash course on `numpy` - Part I\n",
    "\n",
    "Saleh Rezaeiravesh, saleh.rezaeiravesh@manchester.ac.uk <br>\n",
    "Department of Fluids and Environment, The University of Manchester, Manchester, UK\n",
    "___"
   ]
  },
  {
   "cell_type": "markdown",
   "id": "4732fa4c",
   "metadata": {},
   "source": [
    "This is a short introduction to `numpy`, a package (library) for scientific computing in Python. Here we cover some basic things that are required for the Numerical Methods & Computing course. For more detailed instructions and examples, refer to the official [numpy page](https://numpy.org/doc/stable/user/absolute_beginners.html). "
   ]
  },
  {
   "cell_type": "markdown",
   "id": "a3a31223",
   "metadata": {},
   "source": [
    "### Intended Learning Outcomes:\n",
    "By reading and running this notebook, the students should be able to:\n",
    "* Import the `numpy` and its methods. \n",
    "* Use `numpy` to define arrays and implement different operations relevant to them. "
   ]
  },
  {
   "cell_type": "markdown",
   "id": "34c95b97",
   "metadata": {},
   "source": [
    "## 1. Import `numpy`\n",
    "At the beginning of any `.py` script, we should import `numpy` to have access to different classes, functions, and attributes within it. The imported library can be named by anything, here `np`."
   ]
  },
  {
   "cell_type": "code",
   "execution_count": 1,
   "id": "8f411dc0",
   "metadata": {},
   "outputs": [],
   "source": [
    "import numpy as np"
   ]
  },
  {
   "cell_type": "markdown",
   "id": "77dd1791",
   "metadata": {},
   "source": [
    "## 2. Define an array\n",
    "Within this course, we only consider the arrays of numbers. The mathematical correspondence to these arrays are tensors. As we know, a zero-order tensor is scalar, a first-order tensor is a vector, and higher-order tensors are usually referred to as matrices. In the following cells, we provide a few examples for defining arrays in `numpy`. For this purpose we use `numpy.array([....])`."
   ]
  },
  {
   "cell_type": "markdown",
   "id": "7dddd186",
   "metadata": {},
   "source": [
    "### 2.1 1D Arrays (vectors)\n",
    "Let's define $\\mathbf{x}_1=[-1,3,5,7]$ that is a vector of size 4:"
   ]
  },
  {
   "cell_type": "code",
   "execution_count": 2,
   "id": "5d463ed2",
   "metadata": {},
   "outputs": [],
   "source": [
    "x1=np.array([-1,3,5,7])"
   ]
  },
  {
   "cell_type": "markdown",
   "id": "4086bce5",
   "metadata": {},
   "source": [
    "Print the array:"
   ]
  },
  {
   "cell_type": "code",
   "execution_count": 3,
   "id": "1d685070",
   "metadata": {},
   "outputs": [
    {
     "name": "stdout",
     "output_type": "stream",
     "text": [
      "[-1  3  5  7]\n"
     ]
    }
   ],
   "source": [
    "print(x1)"
   ]
  },
  {
   "cell_type": "markdown",
   "id": "6d547c1f",
   "metadata": {},
   "source": [
    "For any array defined in `numpy`, we can get the dimension, size, and shape of the array using the following attributes:\n",
    "\n",
    "* **Dimension**: `ndim`\n",
    "* **Size**: `size`\n",
    "* **Shape**: `shape`\n",
    "\n",
    "Let's apply this to `x1` array defined above:"
   ]
  },
  {
   "cell_type": "code",
   "execution_count": 4,
   "id": "96f1aa14",
   "metadata": {},
   "outputs": [
    {
     "name": "stdout",
     "output_type": "stream",
     "text": [
      "dimension: 1\n",
      "shape: (4,)\n",
      "size: 4\n"
     ]
    }
   ],
   "source": [
    "print('dimension:',x1.ndim)\n",
    "print('shape:',x1.shape)\n",
    "print('size:',x1.size)"
   ]
  },
  {
   "cell_type": "markdown",
   "id": "360ffc3a",
   "metadata": {},
   "source": [
    "**Note:** In contrast to Matlab, a 1D array in Python has the shape, here, `(4,)` and not `(4,1)`. <br>\n",
    "\n",
    "To reshape `x1` to the latter that is a 2D array (matrix), we can do the following:"
   ]
  },
  {
   "cell_type": "code",
   "execution_count": 5,
   "id": "b33b63b7",
   "metadata": {},
   "outputs": [
    {
     "name": "stdout",
     "output_type": "stream",
     "text": [
      "[[-1]\n",
      " [ 3]\n",
      " [ 5]\n",
      " [ 7]]\n",
      "dimension: 2\n",
      "shape: (4, 1)\n",
      "size: 4\n"
     ]
    }
   ],
   "source": [
    "x2 = x1[:,None]\n",
    "\n",
    "print(x2)\n",
    "print('dimension:',x2.ndim)\n",
    "print('shape:',x2.shape)\n",
    "print('size:',x2.size)"
   ]
  },
  {
   "cell_type": "markdown",
   "id": "2bb023b6",
   "metadata": {},
   "source": [
    "Note that now, each element of the array is within the brackets. "
   ]
  },
  {
   "cell_type": "markdown",
   "id": "dc2f2842",
   "metadata": {},
   "source": [
    "### 2.2 2D Arrays (2D Matrices)\n",
    "We are familiar with 2D arrays or matrices that can be square or non-square, for instance:\n",
    "\n",
    "$$\n",
    "\\mathbf{A}_1 = \n",
    "\\begin{bmatrix}\n",
    "   -1 & 3 & 4 \\\\\n",
    "   2 & -5 &7 \\\\\n",
    "\\end{bmatrix}\n",
    "\\,,\n",
    "\\quad\\quad\n",
    "\\mathbf{A}_2 = \n",
    "\\begin{bmatrix}\n",
    "   -1 & 3 & 4 \\\\\n",
    "   2 & -5 &7 \\\\\n",
    "   0 & 6 & 8\\\\\n",
    "\\end{bmatrix}\n",
    "$$\n",
    "Again we use `numpy.array` to define these in Python. "
   ]
  },
  {
   "cell_type": "code",
   "execution_count": 6,
   "id": "e61f1d3c",
   "metadata": {},
   "outputs": [],
   "source": [
    "A1 = np.array([[-1,3,4], [2,-5,7]])\n",
    "A2 = np.array([[-1,3,4], [2,-5,7], [0,6,8]])"
   ]
  },
  {
   "cell_type": "markdown",
   "id": "c1279d8b",
   "metadata": {},
   "source": [
    "Clearly, every row of the mathematical matrices are defined within the internal square brackets separated by a comma. The outermost brackets are specifying the whole matrix. <br>\n",
    "\n",
    "We can print these arrays along with their dimension, size, and shape:"
   ]
  },
  {
   "cell_type": "code",
   "execution_count": 7,
   "id": "58f56108",
   "metadata": {},
   "outputs": [
    {
     "name": "stdout",
     "output_type": "stream",
     "text": [
      "[[-1  3  4]\n",
      " [ 2 -5  7]]\n",
      "dimension, size, shape of A1:  2 6 (2, 3)\n"
     ]
    }
   ],
   "source": [
    "print(A1)\n",
    "print('dimension, size, shape of A1: ',A1.ndim,A1.size,A1.shape)"
   ]
  },
  {
   "cell_type": "code",
   "execution_count": 8,
   "id": "7a47fcb2",
   "metadata": {},
   "outputs": [
    {
     "name": "stdout",
     "output_type": "stream",
     "text": [
      "[[-1  3  4]\n",
      " [ 2 -5  7]\n",
      " [ 0  6  8]]\n",
      "dimension, size, shape of A2:  2 9 (3, 3)\n"
     ]
    }
   ],
   "source": [
    "print(A2)\n",
    "print('dimension, size, shape of A2: ',A2.ndim,A2.size,A2.shape)"
   ]
  },
  {
   "cell_type": "markdown",
   "id": "bddda80f",
   "metadata": {},
   "source": [
    "These show that, \n",
    "* `A1` is a 2D array (matrix) of shape $2\\times 3$ with $6$ elements, in total. \n",
    "* `A2` is a 2D array (matrix) of shape $3\\times 3$ with $9$ elements, in total. "
   ]
  },
  {
   "cell_type": "markdown",
   "id": "5ac8dd65",
   "metadata": {},
   "source": [
    "**Note:** Clearly, the shape of an array is also an array:"
   ]
  },
  {
   "cell_type": "code",
   "execution_count": 9,
   "id": "b2589600",
   "metadata": {},
   "outputs": [
    {
     "name": "stdout",
     "output_type": "stream",
     "text": [
      "(2, 3)\n",
      "2 3\n"
     ]
    }
   ],
   "source": [
    "A1_shape = A1.shape\n",
    "print(A1_shape)\n",
    "print(A1_shape[0],A1_shape[1])"
   ]
  },
  {
   "cell_type": "markdown",
   "id": "8b40a0e0",
   "metadata": {},
   "source": [
    "### 2.3 Initialising Arrays\n",
    "\n",
    "In some cases in Python codes, we need to define arrays of known sizes. For this, we use commands `zeros` and `ones` similar to Matlab, which lead to arrays with all elements equal to 0 and 1, respectively. Clearly, we can premultiply an array defined by `ones` by a scalar to have elements equal to that scalar. "
   ]
  },
  {
   "cell_type": "markdown",
   "id": "31bdc9d5",
   "metadata": {},
   "source": [
    "Define 1D arrays:"
   ]
  },
  {
   "cell_type": "code",
   "execution_count": 10,
   "id": "d16cfa2a",
   "metadata": {},
   "outputs": [
    {
     "name": "stdout",
     "output_type": "stream",
     "text": [
      "[0. 0. 0. 0. 0.]\n"
     ]
    }
   ],
   "source": [
    "y1 = np.zeros(5)\n",
    "print(y1)"
   ]
  },
  {
   "cell_type": "code",
   "execution_count": 11,
   "id": "968e816d",
   "metadata": {},
   "outputs": [
    {
     "name": "stdout",
     "output_type": "stream",
     "text": [
      "[3.2 3.2 3.2 3.2 3.2 3.2]\n"
     ]
    }
   ],
   "source": [
    "y2 = 3.2 * np.ones(6)\n",
    "print(y2)"
   ]
  },
  {
   "cell_type": "markdown",
   "id": "ac4d62e5",
   "metadata": {},
   "source": [
    "Define a 2D array: For instance, for an array of shape $4\\times 3$, we have"
   ]
  },
  {
   "cell_type": "code",
   "execution_count": 12,
   "id": "0a811f34",
   "metadata": {},
   "outputs": [
    {
     "name": "stdout",
     "output_type": "stream",
     "text": [
      "[[0. 0. 0.]\n",
      " [0. 0. 0.]\n",
      " [0. 0. 0.]\n",
      " [0. 0. 0.]]\n",
      "(4, 3)\n"
     ]
    }
   ],
   "source": [
    "B1=np.zeros((4,3))\n",
    "print(B1)\n",
    "print(B1.shape)"
   ]
  },
  {
   "cell_type": "markdown",
   "id": "1a38c041",
   "metadata": {},
   "source": [
    "### 2.4 Convert a list to a `numpy` array\n",
    "\n",
    "If we a have list of numbers, we can convert it to a `numpy` array of a desired shape. The conversion of a list to a 1D array is achieved through command `asarray`:"
   ]
  },
  {
   "cell_type": "code",
   "execution_count": 13,
   "id": "552a911a",
   "metadata": {},
   "outputs": [
    {
     "name": "stdout",
     "output_type": "stream",
     "text": [
      "list: [1, 2, 6, -8, 3, 0]\n",
      "array: [ 1  2  6 -8  3  0]\n",
      "array shape: (6,)\n"
     ]
    }
   ],
   "source": [
    "l = [1,2,6,-8,3,0]   # a list\n",
    "la = np.asarray(l)   #conversion to numpy array\n",
    "print('list:',l)\n",
    "print('array:',la)\n",
    "print('array shape:',la.shape)"
   ]
  },
  {
   "cell_type": "markdown",
   "id": "c85b8418",
   "metadata": {},
   "source": [
    "Note that contrary to the array, the list does NOTE have a `shape` (among other attributes)."
   ]
  },
  {
   "cell_type": "markdown",
   "id": "6917d53f",
   "metadata": {},
   "source": [
    "### 2.5 Reshape an array\n",
    "We can reshape a `numpy` array using `reshape`. Consider a 1D array `x3` of size 6. "
   ]
  },
  {
   "cell_type": "code",
   "execution_count": 14,
   "id": "103acfc0",
   "metadata": {},
   "outputs": [],
   "source": [
    "x3 = np.asarray([0,5,-7,8,10,12])"
   ]
  },
  {
   "cell_type": "markdown",
   "id": "7fef7142",
   "metadata": {},
   "source": [
    "We can convert `x3` to a 2D array of shape $2 \\times 3$ or $3 \\times 2$:"
   ]
  },
  {
   "cell_type": "code",
   "execution_count": 15,
   "id": "3cc18a24",
   "metadata": {},
   "outputs": [
    {
     "name": "stdout",
     "output_type": "stream",
     "text": [
      "[[ 0  5 -7]\n",
      " [ 8 10 12]]\n",
      "(2, 3)\n"
     ]
    }
   ],
   "source": [
    "x4 = np.reshape(x3,(2,3))\n",
    "print(x4)\n",
    "print(x4.shape)"
   ]
  },
  {
   "cell_type": "code",
   "execution_count": 16,
   "id": "f053d007",
   "metadata": {},
   "outputs": [
    {
     "name": "stdout",
     "output_type": "stream",
     "text": [
      "[[ 0  5]\n",
      " [-7  8]\n",
      " [10 12]]\n",
      "(3, 2)\n"
     ]
    }
   ],
   "source": [
    "x5 = np.reshape(x3,(3,2))\n",
    "print(x5)\n",
    "print(x5.shape)"
   ]
  },
  {
   "cell_type": "markdown",
   "id": "389c3c37",
   "metadata": {},
   "source": [
    "### 2.6 Identity matrix\n",
    "For an identity matrix, all elements are zero except the diagonal ones that are 1. An identity matrix of size $n$ in `numpy` can be defined by `I = numpy.identity(n)`. For instance, if $n=4$, we have:"
   ]
  },
  {
   "cell_type": "code",
   "execution_count": 17,
   "id": "c0ab22ee",
   "metadata": {},
   "outputs": [
    {
     "name": "stdout",
     "output_type": "stream",
     "text": [
      "[[1. 0. 0. 0.]\n",
      " [0. 1. 0. 0.]\n",
      " [0. 0. 1. 0.]\n",
      " [0. 0. 0. 1.]]\n"
     ]
    }
   ],
   "source": [
    "I = np.identity(4)\n",
    "print(I)"
   ]
  },
  {
   "cell_type": "markdown",
   "id": "10cd03f0",
   "metadata": {},
   "source": [
    "## 3. Indices and Slices\n"
   ]
  },
  {
   "cell_type": "markdown",
   "id": "d615257f",
   "metadata": {},
   "source": [
    "### 3.1 Indices\n",
    "In contrast to Matlab, the indices in lists and `numpy` arrays in Python start from 0. Therefore, for an array of size $n$, the indices range from 0 to $n-1$. These are called positive indexing. In contrast, we can have negative indexing: -1 (corresponding to $n-1$), -2 (corresponding to $n-2$), etc. Note that -1 is the same as `end` in Matlab. <br>\n",
    "We can get the value of a specific element of an array by calling the array at the associated index. "
   ]
  },
  {
   "cell_type": "markdown",
   "id": "9ee94320",
   "metadata": {},
   "source": [
    "**1D Arrays:**"
   ]
  },
  {
   "cell_type": "markdown",
   "id": "b8f02afb",
   "metadata": {},
   "source": [
    "<img src=static/index1d.png alt=\"Alternative text\" width='400' height=\"400\" />"
   ]
  },
  {
   "cell_type": "code",
   "execution_count": 18,
   "id": "a0a7aec5",
   "metadata": {},
   "outputs": [
    {
     "name": "stdout",
     "output_type": "stream",
     "text": [
      "[-1  3  5  7]\n",
      "Shape of x1: (4,)\n",
      "1st element of x1: -1\n",
      "2nd element of x1: 7\n",
      "Last element of x1: 7\n",
      "Second last element of x1: 5\n"
     ]
    }
   ],
   "source": [
    "print(x1)   \n",
    "print('Shape of x1:',x1.shape)\n",
    "print('1st element of x1:',x1[0])\n",
    "print('2nd element of x1:',x1[3])\n",
    "print('Last element of x1:',x1[-1])\n",
    "print('Second last element of x1:',x1[-2])"
   ]
  },
  {
   "cell_type": "markdown",
   "id": "3903e55d",
   "metadata": {},
   "source": [
    "**2D Arrays**: <br>\n",
    "Combining the positive and negative indexing for the rows and columns, we have various ways of referring to the same element in the multidimensional arrays."
   ]
  },
  {
   "cell_type": "markdown",
   "id": "ca91de77",
   "metadata": {},
   "source": [
    "<img src=static/index2d.png alt=\"Alternative text\" width='500' height=\"500\" />"
   ]
  },
  {
   "cell_type": "code",
   "execution_count": 19,
   "id": "72b90c31",
   "metadata": {},
   "outputs": [
    {
     "name": "stdout",
     "output_type": "stream",
     "text": [
      "[[-1  3  4]\n",
      " [ 2 -5  7]]\n",
      "Shape of A1: (2, 3)\n",
      "Element A1[0,2]= 4\n",
      "Element A1[-2,2]= 4\n",
      "Element A1[-2,-1]= 4\n",
      "Element A1[0,-1]= 4\n"
     ]
    }
   ],
   "source": [
    "print(A1)\n",
    "print('Shape of A1:',A1.shape)\n",
    "print('Element A1[0,2]=',A1[0,2])\n",
    "print('Element A1[-2,2]=',A1[-2,2])\n",
    "print('Element A1[-2,-1]=',A1[-2,-1])\n",
    "print('Element A1[0,-1]=',A1[0,-1])"
   ]
  },
  {
   "cell_type": "markdown",
   "id": "ecaea6e7",
   "metadata": {},
   "source": [
    " ### 3.2 Slicing "
   ]
  },
  {
   "cell_type": "markdown",
   "id": "370c8b67",
   "metadata": {},
   "source": [
    "Sometimes we need slices of data stored in an array. The slicing is applied by selecting a subrange of indices in different dimensions of an array."
   ]
  },
  {
   "cell_type": "markdown",
   "id": "3f43c266",
   "metadata": {},
   "source": [
    "**1d Arrays**:"
   ]
  },
  {
   "cell_type": "markdown",
   "id": "87815659",
   "metadata": {},
   "source": [
    "<img src=static/slicing1d.png alt=\"Alternative text\" width='400' height=\"400\" />"
   ]
  },
  {
   "cell_type": "code",
   "execution_count": 20,
   "id": "b8a4fb32",
   "metadata": {},
   "outputs": [
    {
     "name": "stdout",
     "output_type": "stream",
     "text": [
      "original array [-1  3  5  7]\n"
     ]
    }
   ],
   "source": [
    "print('original array',x1)"
   ]
  },
  {
   "cell_type": "code",
   "execution_count": 21,
   "id": "d0ec52f5",
   "metadata": {},
   "outputs": [
    {
     "name": "stdout",
     "output_type": "stream",
     "text": [
      "[3 5 7]\n"
     ]
    }
   ],
   "source": [
    "print(x1[1:])"
   ]
  },
  {
   "cell_type": "code",
   "execution_count": 22,
   "id": "d5c639f8",
   "metadata": {},
   "outputs": [
    {
     "name": "stdout",
     "output_type": "stream",
     "text": [
      "[-1  3]\n",
      "[-1  3]\n"
     ]
    }
   ],
   "source": [
    "print(x1[:2])\n",
    "print(x1[:-2])"
   ]
  },
  {
   "cell_type": "code",
   "execution_count": 23,
   "id": "3a8757ca",
   "metadata": {},
   "outputs": [
    {
     "name": "stdout",
     "output_type": "stream",
     "text": [
      "[3 5]\n",
      "[3 5]\n"
     ]
    }
   ],
   "source": [
    "print(x1[1:3])\n",
    "print(x1[-3:-1])"
   ]
  },
  {
   "cell_type": "markdown",
   "id": "a06b4a72",
   "metadata": {},
   "source": [
    "**2D Arrays:**"
   ]
  },
  {
   "cell_type": "code",
   "execution_count": 24,
   "id": "e4803570",
   "metadata": {},
   "outputs": [
    {
     "name": "stdout",
     "output_type": "stream",
     "text": [
      "[[-1  3  4]\n",
      " [ 2 -5  7]]\n"
     ]
    }
   ],
   "source": [
    "print(A1)"
   ]
  },
  {
   "cell_type": "code",
   "execution_count": 25,
   "id": "b9abdbfd",
   "metadata": {},
   "outputs": [
    {
     "name": "stdout",
     "output_type": "stream",
     "text": [
      "[[ 2 -5]]\n",
      "(1, 2)\n"
     ]
    }
   ],
   "source": [
    "print(A1[1:2,:-1])\n",
    "print(A1[1:2,:-1].shape)"
   ]
  },
  {
   "cell_type": "code",
   "execution_count": 26,
   "id": "952e6d7d",
   "metadata": {},
   "outputs": [
    {
     "name": "stdout",
     "output_type": "stream",
     "text": [
      "[[2]]\n",
      "(1, 1)\n"
     ]
    }
   ],
   "source": [
    "print(A1[1:2,:-2])\n",
    "print(A1[1:2,:-2].shape)"
   ]
  },
  {
   "cell_type": "markdown",
   "id": "1c651f24",
   "metadata": {},
   "source": [
    "## 4. Basic array operations\n",
    "\n",
    "`numpy` provides a wide range of operations applied to arrays. This brings a great flexibility and computational efficiency when working with arrays. Moreover, the scripts developed for different numerical algorithms have a very high readability and abstraction. In the following lines, we cover the most essential operations in `numpy`. "
   ]
  },
  {
   "cell_type": "markdown",
   "id": "a28cccf2",
   "metadata": {},
   "source": [
    "### 4.1 Addition and subtraction\n",
    "\n",
    "As we know to add or subtract two or more matrices, the shape (dimension and size) of the matrices must be the same. Keeping this in mind, we can simply use `+` and `-` signs for addition and subtraction of `numpy` arrays, respectively."
   ]
  },
  {
   "cell_type": "markdown",
   "id": "eac66a35",
   "metadata": {},
   "source": [
    "**1D Arrays**\n",
    "\n",
    "Consider two vectors $a_1$ and $a_2$:\n",
    "\n",
    "$$\n",
    "a_1=[-1,3,4,5]\\,,\\quad\\quad\n",
    "a_2=[5,-1,2,8]\n",
    "$$\n",
    "\n",
    "For addition and subtraction of these two vectors in `numpy`, we have:"
   ]
  },
  {
   "cell_type": "code",
   "execution_count": 27,
   "id": "685f4dcb",
   "metadata": {},
   "outputs": [
    {
     "name": "stdout",
     "output_type": "stream",
     "text": [
      "a1+a2= [ 4  2  6 13]\n",
      "a1-a2= [-6  4  2 -3]\n"
     ]
    }
   ],
   "source": [
    "a1=np.array([-1,3,4,5])\n",
    "a2=np.array([5,-1,2,8])\n",
    "s=a1+a2\n",
    "d=a1-a2\n",
    "print('a1+a2=',s)\n",
    "print('a1-a2=',d)"
   ]
  },
  {
   "cell_type": "markdown",
   "id": "921863f9",
   "metadata": {},
   "source": [
    "The results are vectors with the same shape as `a1` and `a2`."
   ]
  },
  {
   "cell_type": "markdown",
   "id": "f2457649",
   "metadata": {},
   "source": [
    "**2D Arrays**: <br>\n",
    "The same holds for multidimensional arrays. For instance, consider $B_1$ and $B_2$ that are both $2\\times 3$ matrices:\n",
    "$$\n",
    "B_1=\n",
    "\\begin{bmatrix}\n",
    "-1 & 3 & 4 \\\\\n",
    "2 & 3 & 6\\\\\n",
    "\\end{bmatrix}\n",
    "\\,,\\quad\\quad\n",
    "B_2=\n",
    "\\begin{bmatrix}\n",
    "2 & -5 & 1 \\\\\n",
    "12 & 2 & 4\\\\\n",
    "\\end{bmatrix}\n",
    "$$\n",
    "The elementwise addition and subtraction of these two arrays are done by `B1+B2` and `B1-B2`, respectively. "
   ]
  },
  {
   "cell_type": "code",
   "execution_count": 28,
   "id": "f7135a66",
   "metadata": {},
   "outputs": [],
   "source": [
    "B1 = np.array([[-1,3,4],[2,3,6]])\n",
    "B2 = np.array([[2,-5,1],[12,2,4]])\n",
    "S1 = B1+B2\n",
    "D1 = B1-B2"
   ]
  },
  {
   "cell_type": "code",
   "execution_count": 29,
   "id": "a0f23a10",
   "metadata": {},
   "outputs": [
    {
     "name": "stdout",
     "output_type": "stream",
     "text": [
      "B1+B2= [[ 1 -2  5]\n",
      " [14  5 10]]\n",
      "B1-B2= [[ -3   8   3]\n",
      " [-10   1   2]]\n"
     ]
    }
   ],
   "source": [
    "print('B1+B2=',S1)\n",
    "print('B1-B2=',D1)"
   ]
  },
  {
   "cell_type": "markdown",
   "id": "4c34223f",
   "metadata": {},
   "source": [
    "## 4.2 Matrix transpose\n",
    "A transpose of a matrix is obtained by switching its rows and columns. To find the transpose of an array `A` in `numpy`, we can use either of the following commands:\n",
    " \n",
    " * `A.T`\n",
    " * `numpy.transpose(A)`"
   ]
  },
  {
   "cell_type": "markdown",
   "id": "5f95d607",
   "metadata": {},
   "source": [
    "For instance, for the $2\\times 3$ array $B_1$ defined as\n",
    "\n",
    "$$\n",
    "B_1=\n",
    "\\begin{bmatrix}\n",
    "-1 & 3 & 4 \\\\\n",
    "2 & 3 & 6\\\\\n",
    "\\end{bmatrix}\n",
    "$$\n",
    "we should get \n",
    "$$\n",
    "B_1^T=\n",
    "\\begin{bmatrix}\n",
    "-1 & 2\\\\\n",
    "3 & 3\\\\\n",
    "4 & 6\\\\\n",
    "\\end{bmatrix}\n",
    "$$"
   ]
  },
  {
   "cell_type": "code",
   "execution_count": 30,
   "id": "374163d6",
   "metadata": {},
   "outputs": [
    {
     "name": "stdout",
     "output_type": "stream",
     "text": [
      "B1 =  [[-1  3  4]\n",
      " [ 2  3  6]]\n",
      "B1^T =  [[-1  2]\n",
      " [ 3  3]\n",
      " [ 4  6]]\n",
      "B1^T =  [[-1  2]\n",
      " [ 3  3]\n",
      " [ 4  6]]\n"
     ]
    }
   ],
   "source": [
    "print('B1 = ',B1)\n",
    "print('B1^T = ',B1.T)\n",
    "print('B1^T = ',np.transpose(B1))"
   ]
  },
  {
   "cell_type": "markdown",
   "id": "22afb060",
   "metadata": {},
   "source": [
    "Clearly, the transposed matrix has the size $3\\times 2$:"
   ]
  },
  {
   "cell_type": "code",
   "execution_count": 31,
   "id": "55f989f0",
   "metadata": {},
   "outputs": [
    {
     "name": "stdout",
     "output_type": "stream",
     "text": [
      "B1 shape: (2, 3)\n",
      "B1.T shape: (3, 2)\n"
     ]
    }
   ],
   "source": [
    "print('B1 shape:',B1.shape)\n",
    "print('B1.T shape:',B1.T.shape)"
   ]
  },
  {
   "cell_type": "markdown",
   "id": "1122b914",
   "metadata": {},
   "source": [
    "**Note:** The transpose of a `numpy` array is not meaningful for the vectors which are one-dimensional arrays. In case you want to convert a row vector to a column one, or vice versa, you should first make the vector two-dimensional and then transpose. <br>\n",
    "\n",
    "Let's consider `a1` that is a vector:"
   ]
  },
  {
   "cell_type": "code",
   "execution_count": 32,
   "id": "13e7744e",
   "metadata": {},
   "outputs": [
    {
     "name": "stdout",
     "output_type": "stream",
     "text": [
      "a1 as a vector:\n",
      "[-1  3  4  5] (4,)\n"
     ]
    }
   ],
   "source": [
    "print('a1 as a vector:')\n",
    "print(a1,a1.shape)"
   ]
  },
  {
   "cell_type": "markdown",
   "id": "6dc3376e",
   "metadata": {},
   "source": [
    "First, we make it two dimensional (the result is a column matrix):"
   ]
  },
  {
   "cell_type": "code",
   "execution_count": 33,
   "id": "c6b21ad1",
   "metadata": {},
   "outputs": [
    {
     "name": "stdout",
     "output_type": "stream",
     "text": [
      "a1 as a column matrix:\n",
      "[[-1]\n",
      " [ 3]\n",
      " [ 4]\n",
      " [ 5]]\n",
      "(4, 1)\n"
     ]
    }
   ],
   "source": [
    "print('a1 as a column matrix:')\n",
    "aa1 = a1[:,None]\n",
    "print(aa1)\n",
    "print(aa1.shape)"
   ]
  },
  {
   "cell_type": "markdown",
   "id": "118169cd",
   "metadata": {},
   "source": [
    "Now, the transpose can be applied:"
   ]
  },
  {
   "cell_type": "code",
   "execution_count": 34,
   "id": "cb4cf5d0",
   "metadata": {},
   "outputs": [
    {
     "name": "stdout",
     "output_type": "stream",
     "text": [
      "a1 as a row matrix:\n",
      "[[-1  3  4  5]]\n",
      "(1, 4)\n"
     ]
    }
   ],
   "source": [
    "print('a1 as a row matrix:')\n",
    "aa1T = aa1.T\n",
    "print(aa1T)\n",
    "print(aa1T.shape)"
   ]
  },
  {
   "cell_type": "markdown",
   "id": "02bf6bc2",
   "metadata": {},
   "source": [
    "## 5. Multiplication of arrays\n",
    "\n",
    "\n",
    "### 5.1. General operator\n",
    "For multiplication of arrays in `numpy`, we use the operator `@`. But, we must be careful about checking the shape of arrays which are going to be multiplied to make sure the operation is mathematically possible (i.e. there is no mismatch between the relevant sizes). This means, for instance, if $\\mathbf{A}$ is $2\\times 3$ and $\\mathbf{B}$ is $3\\times 4$, then only $\\mathbf{AB}$ can be done, and not $\\mathbf{BA}$. "
   ]
  },
  {
   "cell_type": "markdown",
   "id": "df36c7e2",
   "metadata": {},
   "source": [
    "Example: matrix-matrix multiplication"
   ]
  },
  {
   "cell_type": "code",
   "execution_count": 35,
   "id": "02c94903",
   "metadata": {},
   "outputs": [
    {
     "name": "stdout",
     "output_type": "stream",
     "text": [
      "Shape of A: (2, 3)\n",
      "Shape of B: (3, 4)\n"
     ]
    }
   ],
   "source": [
    "A = np.array([[2,-5,1],[12,2,4]])\n",
    "B = np.array([[4,2,-7,11],[-2,2,6,0],[19,-3,-8,4]])\n",
    "print('Shape of A:',A.shape)\n",
    "print('Shape of B:',B.shape)"
   ]
  },
  {
   "cell_type": "markdown",
   "id": "bbdcc83e",
   "metadata": {},
   "source": [
    "Let's find $\\mathbf{AB}$:"
   ]
  },
  {
   "cell_type": "code",
   "execution_count": 36,
   "id": "c9ea1863",
   "metadata": {},
   "outputs": [
    {
     "name": "stdout",
     "output_type": "stream",
     "text": [
      "[[  37   -9  -52   26]\n",
      " [ 120   16 -104  148]]\n",
      "Shape of AB, (2, 4)\n"
     ]
    }
   ],
   "source": [
    "C = A @ B\n",
    "print(C)\n",
    "print('Shape of AB,',C.shape)"
   ]
  },
  {
   "cell_type": "markdown",
   "id": "1194e5d4",
   "metadata": {},
   "source": [
    "If we try $\\mathbf{BA}$, an error message will appear saying there is a \"mismatch in the dimensions\":"
   ]
  },
  {
   "cell_type": "code",
   "execution_count": 37,
   "id": "f200d96d",
   "metadata": {},
   "outputs": [
    {
     "ename": "ValueError",
     "evalue": "matmul: Input operand 1 has a mismatch in its core dimension 0, with gufunc signature (n?,k),(k,m?)->(n?,m?) (size 2 is different from 4)",
     "output_type": "error",
     "traceback": [
      "\u001b[1;31m---------------------------------------------------------------------------\u001b[0m",
      "\u001b[1;31mValueError\u001b[0m                                Traceback (most recent call last)",
      "Cell \u001b[1;32mIn[37], line 1\u001b[0m\n\u001b[1;32m----> 1\u001b[0m \u001b[38;5;28mprint\u001b[39m(B\u001b[38;5;129m@A\u001b[39m)\n",
      "\u001b[1;31mValueError\u001b[0m: matmul: Input operand 1 has a mismatch in its core dimension 0, with gufunc signature (n?,k),(k,m?)->(n?,m?) (size 2 is different from 4)"
     ]
    }
   ],
   "source": [
    "print(B@A)"
   ]
  },
  {
   "cell_type": "markdown",
   "id": "284f8aeb",
   "metadata": {},
   "source": [
    "**Note**: The operator `@` is a shorthand for `numpy.matmul(...)`. Their results are the same. "
   ]
  },
  {
   "cell_type": "code",
   "execution_count": 38,
   "id": "bbf2743b",
   "metadata": {},
   "outputs": [
    {
     "name": "stdout",
     "output_type": "stream",
     "text": [
      "[[  37   -9  -52   26]\n",
      " [ 120   16 -104  148]]\n"
     ]
    }
   ],
   "source": [
    "C2=np.matmul(A,B)\n",
    "print(C2)"
   ]
  },
  {
   "cell_type": "markdown",
   "id": "beed0ddc",
   "metadata": {},
   "source": [
    "Example: Matrix vector multiplication. <br>\n",
    "    \n",
    "Consider $\\mathbf{A}$ is a $2\\times 3$ matrix, and $b$ is a vector of size $3$. For implementing the multiplication $\\mathbf{Ab}$ in `numpy`, `A@b` works for `b` being either a $3\\times 1$ column vector of just a 1D array of size $3$. For these two cases, the resulting $A@b$ has the shape $2\\times 1$ and $2$, respectively. "
   ]
  },
  {
   "cell_type": "code",
   "execution_count": 39,
   "id": "ff4b576f",
   "metadata": {},
   "outputs": [
    {
     "name": "stdout",
     "output_type": "stream",
     "text": [
      "Shape of A: (2, 3)\n",
      "Shape of b: (3,)\n",
      "[-42 -30]\n",
      "Ab shape: (2,)\n"
     ]
    }
   ],
   "source": [
    "A = np.array([[2,-5,1],[12,2,4]])\n",
    "b = np.array([-4,7,1])  #1D array\n",
    "print('Shape of A:',A.shape)\n",
    "print('Shape of b:',b.shape)\n",
    "print(A@b)\n",
    "print('Ab shape:',(A@b).shape)"
   ]
  },
  {
   "cell_type": "code",
   "execution_count": 40,
   "id": "ff9a53b8",
   "metadata": {},
   "outputs": [
    {
     "name": "stdout",
     "output_type": "stream",
     "text": [
      "Shape of A: (2, 3)\n",
      "Shape of b: (3, 1)\n",
      "[[-42]\n",
      " [-30]]\n",
      "Ab shape: (2, 1)\n"
     ]
    }
   ],
   "source": [
    "b = np.array([-4,7,1])[:,None]  #2D array 3 x1\n",
    "print('Shape of A:',A.shape)\n",
    "print('Shape of b:',b.shape)\n",
    "print(A@b)\n",
    "print('Ab shape:',(A@b).shape)"
   ]
  },
  {
   "cell_type": "markdown",
   "id": "7a22cec1",
   "metadata": {},
   "source": [
    "## 5.2. Inner (dot) product\n",
    "\n",
    "In many cases, we would like to have an inner or dot product of arrays. But, we should note that:\n",
    "\n",
    "* For 1D arrays (vectors) $\\mathbf{a}$ and $\\mathbf{b}$ of equal length, `numpy.dot(a,b)` is a scalar (exactly like the mathematical dot product). A similar result can be obtained from `a@b` (See Example 1 below).\n",
    "* For higher-dimensional matrices $\\mathbf{A}$ and $\\mathbf{B}$, `numpy.dot(A,B)` is identical to `A@B` (see Example 2 below)."
   ]
  },
  {
   "cell_type": "markdown",
   "id": "c3add05f",
   "metadata": {},
   "source": [
    "Example 1: dot product of two vectors"
   ]
  },
  {
   "cell_type": "code",
   "execution_count": 41,
   "id": "705a149c",
   "metadata": {},
   "outputs": [
    {
     "name": "stdout",
     "output_type": "stream",
     "text": [
      "shape of a and b: (3,) (3,)\n",
      "dot(a,b) = 36\n",
      "a@b = 36\n"
     ]
    }
   ],
   "source": [
    "a=np.array([1,2,4])\n",
    "b=np.array([4,2,7])\n",
    "c=np.dot(a,b)\n",
    "print('shape of a and b:',a.shape,b.shape)\n",
    "print('dot(a,b) =',c)\n",
    "print('a@b =',a@b)"
   ]
  },
  {
   "cell_type": "markdown",
   "id": "f78d8e4b",
   "metadata": {},
   "source": [
    "Example 2: dot product of two 2D arrays"
   ]
  },
  {
   "cell_type": "code",
   "execution_count": 42,
   "id": "eeca9e65",
   "metadata": {},
   "outputs": [
    {
     "name": "stdout",
     "output_type": "stream",
     "text": [
      "Shape of A: (2, 3)\n",
      "Shape of B: (3, 4)\n",
      "[[  37   -9  -52   26]\n",
      " [ 120   16 -104  148]]\n",
      "Shape of dot(A,B) (2, 4)\n",
      "A@B [[  37   -9  -52   26]\n",
      " [ 120   16 -104  148]]\n"
     ]
    }
   ],
   "source": [
    "A = np.array([[2,-5,1],[12,2,4]])\n",
    "B = np.array([[4,2,-7,11],[-2,2,6,0],[19,-3,-8,4]])\n",
    "print('Shape of A:',A.shape)\n",
    "print('Shape of B:',B.shape)\n",
    "\n",
    "C1=np.dot(A,B)   #for multi-dim arrays, dot acts the same as @\n",
    "print(C1)\n",
    "print('Shape of dot(A,B)',C1.shape)\n",
    "print('A@B',A@B)"
   ]
  },
  {
   "cell_type": "markdown",
   "id": "47dec9cd",
   "metadata": {},
   "source": [
    "### 6. Minimum, maximum, and summation\n",
    "\n",
    "* `numpy.max(A)`: returns the element of `A` with maximum value\n",
    "* `numpy.max(A)`: returns the element of `A` with minimum value\n",
    "* `numpy.sum(A)`: returns the sum of elements of `A`\n",
    "\n",
    "`A` can be an array of any dimension."
   ]
  },
  {
   "cell_type": "code",
   "execution_count": 43,
   "id": "f3ed7854",
   "metadata": {},
   "outputs": [
    {
     "name": "stdout",
     "output_type": "stream",
     "text": [
      "[1 2 4]\n",
      "min(a)= 1\n",
      "max(a)= 4\n",
      "sum(a)= 7\n"
     ]
    }
   ],
   "source": [
    "print(a)\n",
    "print('min(a)=',np.min(a))\n",
    "print('max(a)=',np.max(a))\n",
    "print('sum(a)=',np.sum(a))"
   ]
  },
  {
   "cell_type": "code",
   "execution_count": 44,
   "id": "295830ab",
   "metadata": {},
   "outputs": [
    {
     "name": "stdout",
     "output_type": "stream",
     "text": [
      "[[ 2 -5  1]\n",
      " [12  2  4]]\n",
      "min(A)= -5\n",
      "max(A)= 12\n",
      "sum(A)= 16\n"
     ]
    }
   ],
   "source": [
    "print(A)\n",
    "print('min(A)=',np.min(A))\n",
    "print('max(A)=',np.max(A))\n",
    "print('sum(A)=',np.sum(A))"
   ]
  },
  {
   "cell_type": "markdown",
   "id": "104f4621",
   "metadata": {},
   "source": [
    "### 5.3. Scalar-array operations\n",
    "We can simply multiply or divide a `numpy` array of any shape by a scalar using `*` and `/`, respectivelt. By these, all elements of the array are multiplied/divided by the scalar. The shape of the resulting array is the same as the original one. y"
   ]
  },
  {
   "cell_type": "code",
   "execution_count": 45,
   "id": "73978dd2",
   "metadata": {},
   "outputs": [
    {
     "name": "stdout",
     "output_type": "stream",
     "text": [
      "a: [1 2 4]\n",
      "5*a: [ 5 10 20]\n",
      "a/2.3: [0.43478261 0.86956522 1.73913043]\n"
     ]
    }
   ],
   "source": [
    "print('a:',a)\n",
    "print('5*a:', 5*a)\n",
    "print('a/2.3:', a/2.3)"
   ]
  },
  {
   "cell_type": "code",
   "execution_count": 46,
   "id": "1805689f",
   "metadata": {},
   "outputs": [
    {
     "name": "stdout",
     "output_type": "stream",
     "text": [
      "A: [[ 2 -5  1]\n",
      " [12  2  4]]\n",
      "5*A: [[ 10 -25   5]\n",
      " [ 60  10  20]]\n",
      "A/2.3: [[ 0.86956522 -2.17391304  0.43478261]\n",
      " [ 5.2173913   0.86956522  1.73913043]]\n"
     ]
    }
   ],
   "source": [
    "print('A:',A)\n",
    "print('5*A:', 5*A)\n",
    "print('A/2.3:', A/2.3)"
   ]
  },
  {
   "cell_type": "markdown",
   "id": "85a2f8dc",
   "metadata": {},
   "source": [
    "**Note**: Note that, in contrast to Matlab, we do not need to use `.*` or `./` for the above operations. "
   ]
  },
  {
   "cell_type": "markdown",
   "id": "e74d0f1a",
   "metadata": {},
   "source": [
    "We can combine different operations applied to the arrays. \n",
    "For instance, Consider $\\mathbf{A}$ and $\\mathbf{B}$ are two `3\\times 2` arrays. We can implement the mathematical expression \n",
    "$$\\mathbf{C}=(4.3\\mathbf{A}+\\mathbf{B}/3)\\mathbf{A}^T$$\n",
    "in `numpy` as simple as `C=(4.3*A+B/3)@A.T`. <br>\n",
    "This shows how high-level, prctical and nice `numpy` is :)"
   ]
  },
  {
   "cell_type": "code",
   "execution_count": 47,
   "id": "ee5fc5dd",
   "metadata": {},
   "outputs": [],
   "source": [
    "A = np.array([[2,-5,1],[12,2,4]])\n",
    "B = np.array([[-12,4,-1],[6,8,-7]])"
   ]
  },
  {
   "cell_type": "code",
   "execution_count": 48,
   "id": "676137a3",
   "metadata": {},
   "outputs": [],
   "source": [
    "C = (4.3*A + B/3) @ A.T"
   ]
  },
  {
   "cell_type": "code",
   "execution_count": 49,
   "id": "f25c3f34",
   "metadata": {},
   "outputs": [
    {
     "name": "stdout",
     "output_type": "stream",
     "text": [
      "[[114.          30.73333333]\n",
      " [ 65.73333333 725.2       ]]\n",
      "(2, 2)\n"
     ]
    }
   ],
   "source": [
    "print(C)\n",
    "print(C.shape)"
   ]
  }
 ],
 "metadata": {
  "kernelspec": {
   "display_name": "Python 3 (ipykernel)",
   "language": "python",
   "name": "python3"
  },
  "language_info": {
   "codemirror_mode": {
    "name": "ipython",
    "version": 3
   },
   "file_extension": ".py",
   "mimetype": "text/x-python",
   "name": "python",
   "nbconvert_exporter": "python",
   "pygments_lexer": "ipython3",
   "version": "3.11.4"
  }
 },
 "nbformat": 4,
 "nbformat_minor": 5
}
