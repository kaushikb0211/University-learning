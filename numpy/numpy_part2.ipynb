{
 "cells": [
  {
   "cell_type": "markdown",
   "id": "fc0c05c7",
   "metadata": {},
   "source": [
    "# A crash course on `numpy` - Part II (Linear Algebra)\n",
    "\n",
    "Saleh Rezaeiravesh, saleh.rezaeiravesh@manchester.ac.uk <br>\n",
    "Department of Fluids and Environment, The University of Manchester, Manchester, UK\n",
    "___"
   ]
  },
  {
   "cell_type": "markdown",
   "id": "faa76acd",
   "metadata": {},
   "source": [
    "In this notebook, we cover the basics of the linear algebra offered by `numpy`. The selection of the topics is based on the needs in the Numerical Methods & Computing unit. Please refer to [the official page of `numpy.linalg`](https://numpy.org/devdocs/reference/routines.linalg.html) for more instructions and examples. "
   ]
  },
  {
   "cell_type": "markdown",
   "id": "5fb22557",
   "metadata": {},
   "source": [
    "### Intended Learning Outcomes:\n",
    "By reading and running this notebook, the students should be able to:\n",
    "* Import the `numpy` subclass `linalg` and its methods. \n",
    "* Use `numpy.linalg` for applying basic linear algebra techniques relevant to the Numerical Methods & Computing unit. "
   ]
  },
  {
   "cell_type": "markdown",
   "id": "e478cd46",
   "metadata": {},
   "source": [
    "## 1. Import the library\n",
    "We need to import `numpy` in order to be able to define arrays. For this purpose, we use the command introduced in the previous notebook (`numpy_part1.ipynb`)."
   ]
  },
  {
   "cell_type": "code",
   "execution_count": 1,
   "id": "e71290fe",
   "metadata": {},
   "outputs": [],
   "source": [
    "import numpy as np"
   ]
  },
  {
   "cell_type": "markdown",
   "id": "27eddaae",
   "metadata": {},
   "source": [
    "There is the subclass `linalg` in `numpy` which provides the tools required for linear algebra. To import `linalg` in a Python script, we have two options:\n",
    "\n",
    "* Option 1: Import `linalg` as a whole. Then in the script, we can call specific methods (functions) from `linalg`. \n",
    "* Option 2: Import the methods needed in the script from `numpy.linalg`. \n",
    "\n",
    "Both of these are used in practice, and you can decide which one to use. But within the present notebook, we adopt the first option. "
   ]
  },
  {
   "cell_type": "code",
   "execution_count": 2,
   "id": "6511f1ad",
   "metadata": {},
   "outputs": [],
   "source": [
    "# Option 1: import the whole linalg\n",
    "import numpy.linalg as la"
   ]
  },
  {
   "cell_type": "code",
   "execution_count": 3,
   "id": "c4a34346",
   "metadata": {},
   "outputs": [],
   "source": [
    "# Option 2: Import a specific method from linalg\n",
    "from numpy.linalg import norm"
   ]
  },
  {
   "cell_type": "markdown",
   "id": "59e567db",
   "metadata": {},
   "source": [
    "## 2. Norm of arrays\n",
    "From mathematical point of view, there are different types of norms which can be applied to an array. Let us be more specific and focus only on the 1D and 2D arrays.\n",
    "\n",
    "1D arrays:\n",
    "$$\n",
    "\\mathbf{a} = [a_1,a_2,\\cdots,a_n]\\,,\\quad \\mathbf{a}=[a_i]\\,,\\quad  \\text{where}\\,\\, i=1,2,\\cdots,n\n",
    "$$\n",
    "\n",
    "\n",
    "Some most frequently-used norms for the vectors are given bellow:\n",
    "\n",
    "* $L_1$ norm: sum of the absolute values of elements\n",
    "$$\n",
    "\\|\\mathbf{a}\\|_1 = \\sum_{i=1}^n |a_i|\n",
    "$$\n",
    "\n",
    "* $L_2$ norm: square root of the sum of squares of elements\n",
    "\n",
    "$$\n",
    "\\|\\mathbf{a}\\|_2 = \\left (\\sum_{i=1}^n a^2_i \\right)^{1/2}\n",
    "$$\n",
    "\n",
    "* $L_\\infty$ norm: maximum absolute value of the elements\n",
    "\n",
    "$$\n",
    "\\|\\mathbf{a}\\|_\\infty = \\max_{1\\leq i\\leq n} |a_i|\n",
    "$$\n",
    "\n",
    "Consider a general $m\\times n$ matrix $\\mathbf{A}$:\n",
    "\n",
    "$$\n",
    "\\mathbf{A} = \n",
    "\\begin{bmatrix}\n",
    "A_{11} & A_{12} & \\cdots & A_{1n} \\\\\n",
    "A_{21} & A_{22} & \\cdots & A_{2n} \\\\\n",
    "\\vdots & \\ddots & \\cdots & \\vdots \\\\\n",
    "A_{m1} & A_{m2} & \\cdots & A_{mn} \\\\\n",
    "\\end{bmatrix}\n",
    "\\,,\\quad \\mathbf{A}=[A_{ij}] \\,\\, \\text{where} \\,\\, i=1,2,\\cdots,m \\,,\\, j=1,2,\\cdots,n\n",
    "$$\n",
    "\n",
    "For this matrix, the above norms are defined as:\n",
    "\n",
    "* $L_1$ norm: maximum column-sum of the absolute values of elements:\n",
    "$$\n",
    "\\|\\mathbf{A}\\|_1 = \\max_{1\\leq j\\leq n}\\sum_{i=1}^m |A_{ij}|\n",
    "$$\n",
    "\n",
    "* $L_2$ norm: square root of the maximum eigenvalue of $\\mathbf{A^*} \\mathbf{A}$ where $A^*$ is the conjugate transpose of $\\mathbf{A}$:\n",
    "$$\n",
    "\\|\\mathbf{A}\\|_2 = \\sqrt{\\lambda_{\\max} (\\mathbf{A}^*\\mathbf{A})}\n",
    "$$\n",
    "\n",
    "\n",
    "* $L_\\infty$ norm: maximum row-sum of the absolute values of elements:\n",
    "$$\n",
    "\\|\\mathbf{A}\\|_\\infty = \\max_{1\\leq i\\leq m}\\sum_{j=1}^n |A_{ij}|\n",
    "$$\n",
    "\n",
    "\n",
    "\n",
    "\n",
    "To find the norm of an array in `numpy`, we use `numpy.linalg.norm(a,s)` where `s` can be 1, 2, or `numpy.inf` to get the $L_1$, $L_2$, and $L_\\infty$ norm of the array, respectively. Note that the syntax is the same for matrices of any shape. "
   ]
  },
  {
   "cell_type": "markdown",
   "id": "3e0e3fca",
   "metadata": {},
   "source": [
    "Example: 1D array"
   ]
  },
  {
   "cell_type": "code",
   "execution_count": 4,
   "id": "6ed209cf",
   "metadata": {},
   "outputs": [
    {
     "name": "stdout",
     "output_type": "stream",
     "text": [
      "L1-norm of a: 13.0\n",
      "L2-norm of a: 7.14142842854285\n",
      "Linf-norm of a: 5.0\n"
     ]
    }
   ],
   "source": [
    "a = np.array([-1,3,4,5])\n",
    "\n",
    "print('L1-norm of a:',la.norm(a,1))\n",
    "print('L2-norm of a:',la.norm(a,2))\n",
    "print('Linf-norm of a:',la.norm(a,np.inf))"
   ]
  },
  {
   "cell_type": "markdown",
   "id": "35c287eb",
   "metadata": {},
   "source": [
    "Example: 2D array"
   ]
  },
  {
   "cell_type": "code",
   "execution_count": 5,
   "id": "45aebcea",
   "metadata": {},
   "outputs": [
    {
     "name": "stdout",
     "output_type": "stream",
     "text": [
      "[[-1  3  4]\n",
      " [ 2  3  6]]\n",
      "L1-norm of A: 10.0\n",
      "L2-norm of A: 8.400257807634889\n",
      "Linf-norm of A: 11.0\n"
     ]
    }
   ],
   "source": [
    "A = np.array([[-1,3,4],[2,3,6]])\n",
    "\n",
    "print(A)\n",
    "print('L1-norm of A:',la.norm(A,1))\n",
    "print('L2-norm of A:',la.norm(A,2))\n",
    "print('Linf-norm of A:',la.norm(A,np.inf))"
   ]
  },
  {
   "cell_type": "markdown",
   "id": "4b12d3bb",
   "metadata": {},
   "source": [
    "## 3. Determinant of a square matrix\n",
    "\n",
    "To find the determinant of a square matrix using `numpy.linalg`, we need `det(B)`:"
   ]
  },
  {
   "cell_type": "code",
   "execution_count": 6,
   "id": "6d26a056",
   "metadata": {},
   "outputs": [
    {
     "name": "stdout",
     "output_type": "stream",
     "text": [
      "[[-1  3  4]\n",
      " [ 2  3  6]\n",
      " [ 6 -9  0]]\n",
      "det(B)= -90.0\n"
     ]
    }
   ],
   "source": [
    "B = np.array([[-1,3,4],[2,3,6],[6,-9,0]])\n",
    "\n",
    "print(B)\n",
    "print('det(B)=',la.det(B))"
   ]
  },
  {
   "cell_type": "markdown",
   "id": "47d029bf",
   "metadata": {},
   "source": [
    "## 4. Inverse of a square matrix\n",
    "\n",
    "To find the inverse of a square matrix using `numpy.linalg`, we need `inv(B)`:"
   ]
  },
  {
   "cell_type": "code",
   "execution_count": 7,
   "id": "a0fa3a39",
   "metadata": {},
   "outputs": [
    {
     "name": "stdout",
     "output_type": "stream",
     "text": [
      "inv(B)= [[-0.6         0.4        -0.06666667]\n",
      " [-0.4         0.26666667 -0.15555556]\n",
      " [ 0.4        -0.1         0.1       ]]\n"
     ]
    }
   ],
   "source": [
    "B_inv = la.inv(B)\n",
    "print('inv(B)=',B_inv)"
   ]
  },
  {
   "cell_type": "markdown",
   "id": "7f0c61f0",
   "metadata": {},
   "source": [
    "We can check if $\\mathbf{B}  \\mathbf{B}^{-1} = \\mathbf{I}$, where $\\mathbf{I}$ is the identity matrix of the same size as $\\mathbf{B}$:"
   ]
  },
  {
   "cell_type": "code",
   "execution_count": 8,
   "id": "9f2e58ba",
   "metadata": {},
   "outputs": [
    {
     "name": "stdout",
     "output_type": "stream",
     "text": [
      "[[ 1.00000000e+00  0.00000000e+00  0.00000000e+00]\n",
      " [-2.22044605e-16  1.00000000e+00  5.55111512e-17]\n",
      " [ 1.66533454e-16 -5.55111512e-17  1.00000000e+00]]\n"
     ]
    }
   ],
   "source": [
    "print(B @ B_inv)"
   ]
  },
  {
   "cell_type": "markdown",
   "id": "fabc4e7c",
   "metadata": {},
   "source": [
    "## 5. Decompositions\n",
    "\n",
    "A given matrix can be decomposed in various ways. Below, we provide the `numpy.linalg` commands for those decompositions which are needed within the course. "
   ]
  },
  {
   "cell_type": "markdown",
   "id": "2cdbcfac",
   "metadata": {},
   "source": [
    "### 5.1. Cholesky decomposition\n",
    "\n",
    "Assume $\\mathbf{C}$ is a Hermitian positive definite square matrix. If all elements are real, then $\\mathbf{C}$ is a symmetric positive definite matrix. This is the case that we deal within the course. <br>\n",
    "\n",
    "By Cholesky decomposition, $\\mathbf{C}$ is decomposed into a lower-triangular matrix $\\mathbf{L}$ and its transpose:\n",
    "\n",
    "$$\n",
    "\\mathbf{C} = \\mathbf{L}\\mathbf{L}^T\n",
    "$$"
   ]
  },
  {
   "cell_type": "code",
   "execution_count": 9,
   "id": "80db762a",
   "metadata": {},
   "outputs": [
    {
     "name": "stdout",
     "output_type": "stream",
     "text": [
      "[[  4 -12  16]\n",
      " [ 12  37 -43]\n",
      " [-16 -43  98]]\n"
     ]
    }
   ],
   "source": [
    "C = np.array([[4,-12,16],[12,37,-43],[-16,-43,98]])\n",
    "print(C)"
   ]
  },
  {
   "cell_type": "markdown",
   "id": "bdf18e07",
   "metadata": {},
   "source": [
    "In `numpy`, we use `L = cholesky(C)`:"
   ]
  },
  {
   "cell_type": "code",
   "execution_count": 10,
   "id": "eb3469d6",
   "metadata": {},
   "outputs": [
    {
     "name": "stdout",
     "output_type": "stream",
     "text": [
      "[[ 2.  0.  0.]\n",
      " [ 6.  1.  0.]\n",
      " [-8.  5.  3.]]\n"
     ]
    }
   ],
   "source": [
    "L = la.cholesky(C)  #returns lower triangular matrix\n",
    "print(L)"
   ]
  },
  {
   "cell_type": "markdown",
   "id": "ab3f759e",
   "metadata": {},
   "source": [
    "We can check if $\\mathbf{C} = \\mathbf{L}\\mathbf{L}^T$ holds numerically:"
   ]
  },
  {
   "cell_type": "code",
   "execution_count": 11,
   "id": "316f6073",
   "metadata": {},
   "outputs": [],
   "source": [
    "C2 = L @ L.T"
   ]
  },
  {
   "cell_type": "code",
   "execution_count": 12,
   "id": "0e18e899",
   "metadata": {},
   "outputs": [
    {
     "name": "stdout",
     "output_type": "stream",
     "text": [
      "C-L*L.T =  [[  0. -24.  32.]\n",
      " [  0.   0.   0.]\n",
      " [  0.   0.   0.]]\n"
     ]
    }
   ],
   "source": [
    "print('C-L*L.T = ',C-C2)"
   ]
  },
  {
   "cell_type": "markdown",
   "id": "713002f1",
   "metadata": {},
   "source": [
    "### 5.2. QR decomposition\n",
    "\n",
    "Assume $\\mathbf{E}$ is a real square matrix. Then it can be decompose as, \n",
    "\n",
    "$$\n",
    "\\mathbf{E} = \\mathbf{Q}\\mathbf{R}\n",
    "$$\n",
    "\n",
    "where, \n",
    "\n",
    "* $\\mathbf{Q}$ is an orthogonal matrix, i.e. $\\mathbf{Q}^T = \\mathbf{Q}^{-1}$. \n",
    "* $\\mathbf{R}$ is an upper triangular matrix. \n",
    "\n",
    "In `numpy.linalg` we use `Q,R = qr(E)`:"
   ]
  },
  {
   "cell_type": "code",
   "execution_count": 13,
   "id": "0721d65c",
   "metadata": {},
   "outputs": [
    {
     "name": "stdout",
     "output_type": "stream",
     "text": [
      "[[ 3 -5  6]\n",
      " [ 9  4  7]\n",
      " [-2  5 -1]]\n"
     ]
    }
   ],
   "source": [
    "E = np.array([[3,-5,6],[9,4,7],[-2,5,-1]])\n",
    "print(E)"
   ]
  },
  {
   "cell_type": "code",
   "execution_count": 14,
   "id": "7d08e7e4",
   "metadata": {},
   "outputs": [
    {
     "name": "stdout",
     "output_type": "stream",
     "text": [
      "Q= [[-0.30942637  0.66518914  0.67954303]\n",
      " [-0.92827912 -0.36631688 -0.06410783]\n",
      " [ 0.20628425 -0.65064226  0.73082929]]\n",
      "R= [[-9.69535971 -1.13456337 -8.56079634]\n",
      " [ 0.         -8.04442453  2.07755892]\n",
      " [ 0.          0.          2.89767405]]\n"
     ]
    }
   ],
   "source": [
    "Q,R = la.qr(E)\n",
    "print('Q=', Q)\n",
    "print('R=',R)"
   ]
  },
  {
   "cell_type": "markdown",
   "id": "d7622dff",
   "metadata": {},
   "source": [
    "Now, let's check if the orthogonality of $\\mathbf{Q}$ holds numerically:"
   ]
  },
  {
   "cell_type": "code",
   "execution_count": 15,
   "id": "abc4763c",
   "metadata": {},
   "outputs": [
    {
     "name": "stdout",
     "output_type": "stream",
     "text": [
      "inv(Q)-Q.T =  [[-2.22044605e-16 -2.22044605e-16 -5.55111512e-17]\n",
      " [-3.33066907e-16  2.22044605e-16  3.33066907e-16]\n",
      " [ 0.00000000e+00  1.52655666e-16  1.11022302e-16]]\n"
     ]
    }
   ],
   "source": [
    "Q_inv = la.inv(Q)\n",
    "Q_t = Q.T\n",
    "print('inv(Q)-Q.T = ',Q_inv-Q_t)"
   ]
  },
  {
   "cell_type": "markdown",
   "id": "b4d5b76f",
   "metadata": {},
   "source": [
    "## 6. Eigen decomposition of matrices\n",
    "\n",
    "Consider a square matrix $\\mathbf{A}$. Then the eigen decomposition of $\\mathbf{A}$ is:\n",
    "\n",
    "$$\n",
    "\\mathbf{A} \\mathbf{v} = \\lambda \\mathbf{v}\n",
    "$$\n",
    "where $\\lambda$ is an eigenvalue of $\\mathbf{A}$ and $\\mathbf{v}$ is its corresponding eigenvector. \n",
    "\n",
    "For an $n\\times n$ matrix $\\mathbf{A}$, we have $n$ eigenvalues and corresponding eigenvectors. All these $n$ eigen pairs can be obtained at once in `numpy.linalg` by running `eigVals,eigVecs = eig(A)`. \n",
    "\n",
    "Note that, \n",
    "* `eigVals` is a 1D array of size $n$ containing the eigenvalues of $\\mathbf{A}$, \n",
    "* `eigvecs` is a $n\\times n$  matrix, the $i$-th column of which is the eigenvector corresponding to the $i$-th eigenvalue. "
   ]
  },
  {
   "cell_type": "code",
   "execution_count": 16,
   "id": "6f478815",
   "metadata": {},
   "outputs": [],
   "source": [
    "A = np.array([[3,8,6],[9,4,7],[-2,5,-1]])"
   ]
  },
  {
   "cell_type": "code",
   "execution_count": 17,
   "id": "3ffecd06",
   "metadata": {},
   "outputs": [],
   "source": [
    "eigVals,eigVecs = la.eig(A)"
   ]
  },
  {
   "cell_type": "code",
   "execution_count": 18,
   "id": "cac21387",
   "metadata": {},
   "outputs": [
    {
     "name": "stdout",
     "output_type": "stream",
     "text": [
      "Eigenvalues: [-5.27528315 -2.25556381 13.53084696]\n"
     ]
    }
   ],
   "source": [
    "print('Eigenvalues:',eigVals)"
   ]
  },
  {
   "cell_type": "code",
   "execution_count": 19,
   "id": "427b2ddd",
   "metadata": {},
   "outputs": [
    {
     "name": "stdout",
     "output_type": "stream",
     "text": [
      "[[ 0.05638467 -0.39661523  0.65427134]\n",
      " [-0.63571886 -0.36964896  0.73826754]\n",
      " [ 0.76985863  0.84027139  0.16398184]]\n"
     ]
    }
   ],
   "source": [
    "print(eigVecs)"
   ]
  },
  {
   "cell_type": "markdown",
   "id": "bcabf167",
   "metadata": {},
   "source": [
    "Let's check if the $L_2$ norm of the eigenvectors is unity. Simply, we compute the norm of the columns of `eigVecs`:"
   ]
  },
  {
   "cell_type": "code",
   "execution_count": 20,
   "id": "9f9288de",
   "metadata": {},
   "outputs": [
    {
     "name": "stdout",
     "output_type": "stream",
     "text": [
      "Norm of eigenvector 1 = 1\n",
      "Norm of eigenvector 2 = 1\n",
      "Norm of eigenvector 3 = 1\n"
     ]
    }
   ],
   "source": [
    "for i in range(A.shape[0]):\n",
    "    print('Norm of eigenvector %i = %g' %(i+1,la.norm(eigVecs[:,i],2)))"
   ]
  },
  {
   "cell_type": "markdown",
   "id": "31a80b5c",
   "metadata": {},
   "source": [
    "## 7. Direct solution of a linear system of equations\n",
    "\n",
    "Consider the linear system ,\n",
    "$$\n",
    "\\mathbf{A} \\mathbf{x} = \\mathbf{f} \\,,\n",
    "$$\n",
    "where,\n",
    "* $\\mathbf{A}$ is an $n\\times n$ matrix (coefficient matrix), \n",
    "* $\\mathbf{n}$ is an $n\\times 1$ matrix (solution vector/matrix),\n",
    "* $\\mathbf{f}$ is an $n\\times 1$ matrix (right-hand-side vector/matrix). \n",
    "\n",
    "If the matrix $\\mathbf{A}$ is invertible, i.e. $\\mathbf{A}^{-1}$ exists, then the above linear system can be directly solved as, \n",
    "$$\n",
    "\\mathbf{x} = \\mathbf{A}^{-1}\\mathbf{f} \\,.\n",
    "$$\n",
    "This is called the direct solution of a linear system. In contrast, we have the iterative methods that will be discussed thoroughly along with their Python implementations during the course. \n",
    "\n",
    "Calling a method in `numpy.linalg` for directly solving a linear system is as simple as: `x = solve(A,f)`."
   ]
  },
  {
   "cell_type": "code",
   "execution_count": 21,
   "id": "e4d6c448",
   "metadata": {},
   "outputs": [],
   "source": [
    "A = np.asarray([[4,2,0,0],\n",
    "              [2,3,1,0],\n",
    "              [0,-1,2,0.5],\n",
    "              [0,0,1,5]])\n",
    "\n",
    "f = np.array([21,69,34,22])"
   ]
  },
  {
   "cell_type": "markdown",
   "id": "be6a0f22",
   "metadata": {},
   "source": [
    "Let's solve the system $\\mathbf{A} \\mathbf{x} = \\mathbf{f}$ numerically:"
   ]
  },
  {
   "cell_type": "code",
   "execution_count": 22,
   "id": "ef4d356d",
   "metadata": {},
   "outputs": [],
   "source": [
    "x = la.solve(A,f)"
   ]
  },
  {
   "cell_type": "code",
   "execution_count": 23,
   "id": "824e5924",
   "metadata": {},
   "outputs": [
    {
     "name": "stdout",
     "output_type": "stream",
     "text": [
      "solution x =  [-3.015625 16.53125  25.4375   -0.6875  ]\n",
      "shape of x: (4,)\n"
     ]
    }
   ],
   "source": [
    "print('solution x = ',x)\n",
    "print('shape of x:', x.shape)"
   ]
  },
  {
   "cell_type": "markdown",
   "id": "5462acb0",
   "metadata": {},
   "source": [
    "Note that instead of using the built-in function `solve`, we could directly compute $\\mathbf{x}$ from $\\mathbf{x} = \\mathbf{A}^{-1}\\mathbf{f}$:"
   ]
  },
  {
   "cell_type": "code",
   "execution_count": 24,
   "id": "a8eb0c55",
   "metadata": {},
   "outputs": [],
   "source": [
    "x2 = la.inv(A) @ f"
   ]
  },
  {
   "cell_type": "code",
   "execution_count": 25,
   "id": "e5ee5a67",
   "metadata": {},
   "outputs": [
    {
     "name": "stdout",
     "output_type": "stream",
     "text": [
      "[-3.015625 16.53125  25.4375   -0.6875  ]\n"
     ]
    }
   ],
   "source": [
    "print(x2)"
   ]
  }
 ],
 "metadata": {
  "kernelspec": {
   "display_name": "Python 3 (ipykernel)",
   "language": "python",
   "name": "python3"
  },
  "language_info": {
   "codemirror_mode": {
    "name": "ipython",
    "version": 3
   },
   "file_extension": ".py",
   "mimetype": "text/x-python",
   "name": "python",
   "nbconvert_exporter": "python",
   "pygments_lexer": "ipython3",
   "version": "3.7.16"
  }
 },
 "nbformat": 4,
 "nbformat_minor": 5
}
